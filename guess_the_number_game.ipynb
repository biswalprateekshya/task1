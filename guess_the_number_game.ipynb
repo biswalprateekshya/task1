{
 "cells": [
  {
   "cell_type": "code",
   "execution_count": 6,
   "id": "87f8d34f",
   "metadata": {},
   "outputs": [
    {
     "name": "stdout",
     "output_type": "stream",
     "text": [
      "Guess the number between 1 and 10: 7\n",
      "Player loses and computer wins\n",
      "secret_number = 2 and guess = 7\n"
     ]
    }
   ],
   "source": [
    "import random\n",
    "secret_number = random.randint(1,10)\n",
    "guess = int(input(\"Guess the number between 1 and 10: \"))\n",
    "if (guess  == secret_number):\n",
    "    print (\"Player wins and computer loses\")\n",
    "else:\n",
    "    print (\"Player loses and computer wins\")\n",
    "print(\"secret_number =\",secret_number,\"and guess =\",guess)"
   ]
  }
 ],
 "metadata": {
  "kernelspec": {
   "display_name": "Python 3 (ipykernel)",
   "language": "python",
   "name": "python3"
  },
  "language_info": {
   "codemirror_mode": {
    "name": "ipython",
    "version": 3
   },
   "file_extension": ".py",
   "mimetype": "text/x-python",
   "name": "python",
   "nbconvert_exporter": "python",
   "pygments_lexer": "ipython3",
   "version": "3.9.7"
  }
 },
 "nbformat": 4,
 "nbformat_minor": 5
}
